{
 "cells": [
  {
   "cell_type": "markdown",
   "id": "61a01d23",
   "metadata": {},
   "source": [
    "# Problem Set 1 BDAT 1004 – Data Programming"
   ]
  },
  {
   "cell_type": "raw",
   "id": "d7133c6e",
   "metadata": {},
   "source": [
    "Question 1: What data type is each of the following?\n",
    "5 = INT\n",
    "5.0 = FLOATING POINT NUMBER\n",
    "5 > 1(TRUE) = BOOLEAN\n",
    "'5' = STRING\n",
    "5 * 2 (10) = INT \n",
    "'5' * 2 (106) = INT\n",
    "'5' + '2' (52) = STRING\n",
    "5 / 2 = FLOAT\n",
    "5 % 2 = FLOAT\n",
    "{5, 2, 1} = DICTIONARY\n",
    "5 == 3 (FALSE) = BOOLEAN\n",
    "Pi (the number) = PI"
   ]
  },
  {
   "attachments": {},
   "cell_type": "markdown",
   "id": "be0f5822",
   "metadata": {},
   "source": []
  },
  {
   "cell_type": "code",
   "execution_count": null,
   "id": "f5e421b8",
   "metadata": {},
   "outputs": [],
   "source": []
  }
 ],
 "metadata": {
  "kernelspec": {
   "display_name": "Python 3 (ipykernel)",
   "language": "python",
   "name": "python3"
  },
  "language_info": {
   "codemirror_mode": {
    "name": "ipython",
    "version": 3
   },
   "file_extension": ".py",
   "mimetype": "text/x-python",
   "name": "python",
   "nbconvert_exporter": "python",
   "pygments_lexer": "ipython3",
   "version": "3.9.7"
  }
 },
 "nbformat": 4,
 "nbformat_minor": 5
}
